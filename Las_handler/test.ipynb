{
 "cells": [
  {
   "cell_type": "code",
   "execution_count": 70,
   "metadata": {},
   "outputs": [],
   "source": [
    "import gis_plus.Las_handler.LasEncoder as LasEncoder\n",
    "\n",
    "import importlib\n",
    "importlib.reload(LasEncoder)\n",
    "\n",
    "from gis_plus.Las_handler.LasEncoder import LasEncoder"
   ]
  },
  {
   "cell_type": "code",
   "execution_count": 71,
   "metadata": {},
   "outputs": [],
   "source": [
    "import os\n",
    "def get_files_in_folder(folder_path):\n",
    "\n",
    "    # List all files and directories in the specified folder\n",
    "    all_entries = os.listdir(folder_path)\n",
    "    \n",
    "    # Filter out directories, only keep files\n",
    "    files = [entry for entry in all_entries if os.path.isfile(os.path.join(folder_path, entry))]\n",
    "    \n",
    "    return files"
   ]
  },
  {
   "cell_type": "code",
   "execution_count": 72,
   "metadata": {},
   "outputs": [
    {
     "data": {
      "text/plain": [
       "'a'"
      ]
     },
     "execution_count": 72,
     "metadata": {},
     "output_type": "execute_result"
    }
   ],
   "source": [
    "\"\"\"import os \n",
    "for i in get_files_in_folder(\"Las\"):\n",
    "    c = LasEncoder(i, \"Las\")\n",
    "    c.update_encoding()\"\"\"\n"
   ]
  },
  {
   "cell_type": "code",
   "execution_count": null,
   "metadata": {},
   "outputs": [],
   "source": []
  }
 ],
 "metadata": {
  "kernelspec": {
   "display_name": "Python 3",
   "language": "python",
   "name": "python3"
  },
  "language_info": {
   "codemirror_mode": {
    "name": "ipython",
    "version": 3
   },
   "file_extension": ".py",
   "mimetype": "text/x-python",
   "name": "python",
   "nbconvert_exporter": "python",
   "pygments_lexer": "ipython3",
   "version": "3.12.2"
  }
 },
 "nbformat": 4,
 "nbformat_minor": 2
}

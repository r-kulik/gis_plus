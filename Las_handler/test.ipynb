{
 "cells": [
  {
   "cell_type": "code",
   "execution_count": 8,
   "metadata": {},
   "outputs": [],
   "source": [
    "import LasEncoder as LasEncoder\n",
    "\n",
    "import importlib\n",
    "importlib.reload(LasEncoder)\n",
    "\n",
    "from LasEncoder import LasEncoder"
   ]
  },
  {
   "cell_type": "code",
   "execution_count": 9,
   "metadata": {},
   "outputs": [
    {
     "ename": "FileNotFoundError",
     "evalue": "[Errno 2] No such file or directory: 'temp_files/10_IK.las'",
     "output_type": "error",
     "traceback": [
      "\u001b[1;31m---------------------------------------------------------------------------\u001b[0m",
      "\u001b[1;31mFileNotFoundError\u001b[0m                         Traceback (most recent call last)",
      "Cell \u001b[1;32mIn[9], line 2\u001b[0m\n\u001b[0;32m      1\u001b[0m c \u001b[38;5;241m=\u001b[39m LasEncoder(\u001b[38;5;124m\"\u001b[39m\u001b[38;5;124m10_IK.las\u001b[39m\u001b[38;5;124m\"\u001b[39m)\n\u001b[1;32m----> 2\u001b[0m \u001b[43mc\u001b[49m\u001b[38;5;241;43m.\u001b[39;49m\u001b[43mupdate_encoding\u001b[49m\u001b[43m(\u001b[49m\u001b[43m)\u001b[49m\n",
      "File \u001b[1;32mc:\\Users\\User\\Desktop\\hack\\gis_plus\\Las_handler\\LasEncoder.py:27\u001b[0m, in \u001b[0;36mLasEncoder.update_encoding\u001b[1;34m(self)\u001b[0m\n\u001b[0;32m     26\u001b[0m \u001b[38;5;28;01mdef\u001b[39;00m \u001b[38;5;21mupdate_encoding\u001b[39m(\u001b[38;5;28mself\u001b[39m):\n\u001b[1;32m---> 27\u001b[0m     \u001b[38;5;28;01mwith\u001b[39;00m \u001b[38;5;28;43mopen\u001b[39;49m\u001b[43m(\u001b[49m\u001b[38;5;28;43mself\u001b[39;49m\u001b[38;5;241;43m.\u001b[39;49m\u001b[43mname\u001b[49m\u001b[43m,\u001b[49m\u001b[43m \u001b[49m\u001b[38;5;124;43m'\u001b[39;49m\u001b[38;5;124;43mrb\u001b[39;49m\u001b[38;5;124;43m'\u001b[39;49m\u001b[43m)\u001b[49m \u001b[38;5;28;01mas\u001b[39;00m input_file:\n\u001b[0;32m     28\u001b[0m         file_bytes \u001b[38;5;241m=\u001b[39m input_file\u001b[38;5;241m.\u001b[39mread()\n\u001b[0;32m     30\u001b[0m     decoded_string \u001b[38;5;241m=\u001b[39m file_bytes\u001b[38;5;241m.\u001b[39mdecode(\u001b[38;5;28mself\u001b[39m\u001b[38;5;241m.\u001b[39mget_encoding())\n",
      "\u001b[1;31mFileNotFoundError\u001b[0m: [Errno 2] No such file or directory: 'temp_files/10_IK.las'"
     ]
    }
   ],
   "source": [
    "c = LasEncoder(\"10_IK.las\")\n",
    "c.update_encoding()"
   ]
  },
  {
   "cell_type": "code",
   "execution_count": null,
   "metadata": {},
   "outputs": [],
   "source": [
    "import os\n",
    "def get_files_in_folder(folder_path):\n",
    "\n",
    "    # List all files and directories in the specified folder\n",
    "    all_entries = os.listdir(folder_path)\n",
    "    \n",
    "    # Filter out directories, only keep files\n",
    "    files = [entry for entry in all_entries if os.path.isfile(os.path.join(folder_path, entry))]\n",
    "    \n",
    "    return files"
   ]
  },
  {
   "cell_type": "code",
   "execution_count": null,
   "metadata": {},
   "outputs": [],
   "source": [
    "import os \n",
    "for i in get_files_in_folder(\"Las\"):\n",
    "    c = LasEncoder(i, \"Las\")\n",
    "    c.update_encoding()\n"
   ]
  },
  {
   "cell_type": "code",
   "execution_count": null,
   "metadata": {},
   "outputs": [
    {
     "ename": "SyntaxError",
     "evalue": "'(' was never closed (451561467.py, line 18)",
     "output_type": "error",
     "traceback": [
      "\u001b[1;36m  Cell \u001b[1;32mIn[1], line 18\u001b[1;36m\u001b[0m\n\u001b[1;33m    plt.figure(figsize=(5, 12)\u001b[0m\n\u001b[1;37m              ^\u001b[0m\n\u001b[1;31mSyntaxError\u001b[0m\u001b[1;31m:\u001b[0m '(' was never closed\n"
     ]
    }
   ],
   "source": [
    "import matplotlib.pyplot as plt\n",
    "import pandas as pd\n",
    "import lasio\n",
    "\n",
    "# Step 1: Read the LAS file\n",
    "las_file_path = \"Encoded/10_PS.las\"\n",
    "las = lasio.read(las_file_path)\n",
    "\n",
    "# Step 2: Extract log data into a pandas DataFrame\n",
    "df = las.df()\n",
    "\n",
    "# Step 3: Visualize the data\n",
    "\n",
    "# Step 4: Visualize the data\n",
    "# Assuming you want to plot the first two log curves\n",
    "curve_names = list(df.columns)\n",
    "\n",
    "plt.figure(figsize=(5, 12))\n",
    "plt.plot(df[curve_names[0]], df.index, label=curve_names[0], linewidth=1.5)\n",
    "plt.title('Well Log Data Visualization', fontsize=16)\n",
    "plt.ylabel('Depth', fontsize=14)\n",
    "plt.xlabel('Log Values', fontsize=14)\n",
    "plt.legend(fontsize=12)\n",
    "plt.grid(True, which='both', linestyle='--', linewidth=0.5)\n",
    "plt.gca().invert_yaxis()  # Invert the y-axis to show depth increasing downwards\n",
    "plt.show()"
   ]
  }
 ],
 "metadata": {
  "kernelspec": {
   "display_name": "Python 3",
   "language": "python",
   "name": "python3"
  },
  "language_info": {
   "codemirror_mode": {
    "name": "ipython",
    "version": 3
   },
   "file_extension": ".py",
   "mimetype": "text/x-python",
   "name": "python",
   "nbconvert_exporter": "python",
   "pygments_lexer": "ipython3",
   "version": "3.12.2"
  }
 },
 "nbformat": 4,
 "nbformat_minor": 2
}

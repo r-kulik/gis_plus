{
 "cells": [
  {
   "cell_type": "code",
   "execution_count": 57,
   "metadata": {},
   "outputs": [],
   "source": [
    "import LasChecker\n",
    "\n",
    "import importlib\n",
    "importlib.reload(LasChecker)\n",
    "\n",
    "from LasChecker import LasChecker"
   ]
  },
  {
   "cell_type": "code",
   "execution_count": 58,
   "metadata": {},
   "outputs": [],
   "source": [
    "import os\n",
    "def get_files_in_folder(folder_path):\n",
    "\n",
    "    # List all files and directories in the specified folder\n",
    "    all_entries = os.listdir(folder_path)\n",
    "    \n",
    "    # Filter out directories, only keep files\n",
    "    files = [entry for entry in all_entries if os.path.isfile(os.path.join(folder_path, entry))]\n",
    "    \n",
    "    return files"
   ]
  },
  {
   "cell_type": "code",
   "execution_count": 59,
   "metadata": {},
   "outputs": [
    {
     "ename": "TypeError",
     "evalue": "LasChecker.__init__() missing 1 required positional argument: 'dir_name'",
     "output_type": "error",
     "traceback": [
      "\u001b[1;31m---------------------------------------------------------------------------\u001b[0m",
      "\u001b[1;31mTypeError\u001b[0m                                 Traceback (most recent call last)",
      "Cell \u001b[1;32mIn[59], line 1\u001b[0m\n\u001b[1;32m----> 1\u001b[0m c \u001b[38;5;241m=\u001b[39m \u001b[43mLasChecker\u001b[49m\u001b[43m(\u001b[49m\u001b[38;5;124;43m\"\u001b[39;49m\u001b[38;5;124;43mLas/LAS_NGE.93399\u001b[39;49m\u001b[38;5;124;43m\"\u001b[39;49m\u001b[43m)\u001b[49m\n\u001b[0;32m      2\u001b[0m c \u001b[38;5;241m=\u001b[39m LasChecker(\u001b[38;5;124m\"\u001b[39m\u001b[38;5;124mLas/10_IK.las\u001b[39m\u001b[38;5;124m\"\u001b[39m)\n\u001b[0;32m      4\u001b[0m \u001b[38;5;28;01mimport\u001b[39;00m \u001b[38;5;21;01mos\u001b[39;00m \n",
      "\u001b[1;31mTypeError\u001b[0m: LasChecker.__init__() missing 1 required positional argument: 'dir_name'"
     ]
    }
   ],
   "source": [
    "import os \n",
    "for i in get_files_in_folder(\"Las\"):\n",
    "    c = LasChecker(i, \"Las\")\n",
    "    c.update_encoding()\n",
    "\"a\""
   ]
  }
 ],
 "metadata": {
  "kernelspec": {
   "display_name": "Python 3",
   "language": "python",
   "name": "python3"
  },
  "language_info": {
   "codemirror_mode": {
    "name": "ipython",
    "version": 3
   },
   "file_extension": ".py",
   "mimetype": "text/x-python",
   "name": "python",
   "nbconvert_exporter": "python",
   "pygments_lexer": "ipython3",
   "version": "3.12.2"
  }
 },
 "nbformat": 4,
 "nbformat_minor": 2
}
